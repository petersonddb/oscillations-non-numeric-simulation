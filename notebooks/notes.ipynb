{
 "cells": [
  {
   "cell_type": "markdown",
   "id": "2776765f-a013-46e9-95f7-13b4a873e223",
   "metadata": {},
   "source": [
    "# Notes"
   ]
  },
  {
   "cell_type": "markdown",
   "id": "33eb1cc0-a980-495c-9414-ed53f49b9ea3",
   "metadata": {},
   "source": [
    "## Simple Harmonic Motion"
   ]
  },
  {
   "cell_type": "markdown",
   "id": "58a5f576-e668-40f8-bbb8-7dac8cbdd3fa",
   "metadata": {},
   "source": [
    "**Force is**: $f = -kx$. This force changes as the spring displacement changes along the oscillation movement."
   ]
  },
  {
   "cell_type": "markdown",
   "id": "fa090aaa-e235-4acf-9384-fa504d229d23",
   "metadata": {},
   "source": [
    "**Moviment is given by**:\n",
    "\n",
    "$w = \\sqrt{\\frac{k}{m}}$;\n",
    "\n",
    "$x = Acos(wt)$; Amplitude is constant here since there is no loss (see damped below)."
   ]
  },
  {
   "cell_type": "markdown",
   "id": "e248f51e-d072-4802-86a9-ea969b939b91",
   "metadata": {},
   "source": [
    "**Energy is given by**:\n",
    "\n",
    "$E = K + U$; Total mechanical energy is constant here since there is no loss (see damped below). However, energy distribution between kinetic and potential energy changes along the oscillation movement.\n",
    "\n",
    "$K = \\frac{1}{2}mv^2$ where $v = \\frac{dx}{dt} = -wAsin(wt)$;\n",
    "\n",
    "$U = \\frac{1}{2}kx^2$;"
   ]
  },
  {
   "cell_type": "markdown",
   "id": "d357c3e5-912b-4c56-b977-13e30ef44810",
   "metadata": {},
   "source": [
    "**Example at $t=2$ for $k=10, m=80, x=2$**:"
   ]
  },
  {
   "cell_type": "code",
   "execution_count": 2,
   "id": "b2a9605c-1270-4ff7-b73f-5ae837345810",
   "metadata": {},
   "outputs": [
    {
     "data": {
      "text/plain": [
       "'0.3535533905932738, -0.45936268493278426, 1.5204891941512602, 8.440563052346256, 11.559436947653744, 20.0'"
      ]
     },
     "execution_count": 2,
     "metadata": {},
     "output_type": "execute_result"
    }
   ],
   "source": [
    "from numpy import *\n",
    "\n",
    "w = sqrt(10/80)\n",
    "v = -w*2*sin(w*2)\n",
    "x = 2*cos(w*2)\n",
    "K = 1/2*80*v**2\n",
    "U = 1/2*10*x**2\n",
    "E = K + U\n",
    "\n",
    "f'{w}, {v}, {x}, {K}, {U}, {E}'"
   ]
  },
  {
   "cell_type": "code",
   "execution_count": null,
   "id": "8148e741-983f-48ff-b743-749ae350ebdb",
   "metadata": {},
   "outputs": [],
   "source": []
  }
 ],
 "metadata": {
  "kernelspec": {
   "display_name": "Python 3 (ipykernel)",
   "language": "python",
   "name": "python3"
  },
  "language_info": {
   "codemirror_mode": {
    "name": "ipython",
    "version": 3
   },
   "file_extension": ".py",
   "mimetype": "text/x-python",
   "name": "python",
   "nbconvert_exporter": "python",
   "pygments_lexer": "ipython3",
   "version": "3.11.6"
  }
 },
 "nbformat": 4,
 "nbformat_minor": 5
}
